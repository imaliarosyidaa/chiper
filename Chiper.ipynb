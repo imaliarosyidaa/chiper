{
  "nbformat": 4,
  "nbformat_minor": 0,
  "metadata": {
    "colab": {
      "provenance": [],
      "toc_visible": true
    },
    "kernelspec": {
      "name": "python3",
      "display_name": "Python 3"
    },
    "language_info": {
      "name": "python"
    }
  },
  "cells": [
    {
      "cell_type": "markdown",
      "source": [
        "# Encrpyt transposition cipher"
      ],
      "metadata": {
        "id": "GBDKm_CmXBjg"
      }
    },
    {
      "cell_type": "code",
      "source": [
        "def encrypt_transposition_cipher(message, key):\n",
        "    num_columns = len(key)\n",
        "    num_rows = -(-len(message) // num_columns)\n",
        "    matrix = [['' for _ in range(num_columns)] for _ in range(num_rows)]\n",
        "\n",
        "    row, col = 0, 0\n",
        "    for char in message:\n",
        "        matrix[row][col] = char\n",
        "        col += 1\n",
        "        if col == num_columns:\n",
        "            col = 0\n",
        "            row += 1\n",
        "    encrypted_message = ''\n",
        "    for col_index in key:\n",
        "        for row_index in range(num_rows):\n",
        "            encrypted_message += matrix[row_index][col_index]\n",
        "\n",
        "    return encrypted_message\n",
        "\n",
        "pesan = \"Ini adalah pesan rahasia\"\n",
        "kunci = [2, 1, 4, 3, 0]\n",
        "pesan_terenkripsi = encrypt_transposition_cipher(pesan, kunci)\n",
        "print(\"Pesan terenkripsi:\", pesan_terenkripsi)\n"
      ],
      "metadata": {
        "colab": {
          "base_uri": "https://localhost:8080/",
          "height": 0
        },
        "id": "wvnuN9nSVxUS",
        "outputId": "afe5536a-d1da-4841-eb70-46d9dcf7463d"
      },
      "execution_count": 3,
      "outputs": [
        {
          "output_type": "stream",
          "name": "stdout",
          "text": [
            "Pesan terenkripsi: ilerinap sahah asaaId na\n"
          ]
        }
      ]
    },
    {
      "cell_type": "markdown",
      "source": [
        "# Decrpyt transposition cipher"
      ],
      "metadata": {
        "id": "EFXE2PfOXPUp"
      }
    },
    {
      "cell_type": "code",
      "source": [
        "def decrypt_transposition_cipher(encrypted_text, decryption_key):\n",
        "    key_length = len(decryption_key)\n",
        "    num_rows = -(-len(encrypted_text) // key_length)\n",
        "    matrix = initialize_matrix(num_rows, key_length)\n",
        "    fill_matrix(encrypted_text, matrix)\n",
        "\n",
        "    decrypted_text = \"\"\n",
        "    for column in range(key_length):\n",
        "        key_index = decryption_key.index(column)\n",
        "        for row in range(num_rows):\n",
        "            decrypted_text += matrix[row][key_index]\n",
        "\n",
        "    return decrypted_text\n",
        "\n",
        "def initialize_matrix(rows, columns):\n",
        "    matrix = [['' for _ in range(columns)] for _ in range(rows)]\n",
        "    return matrix\n",
        "\n",
        "def fill_matrix(text, matrix):\n",
        "    index = 0\n",
        "    for row in range(len(matrix)):\n",
        "        for column in range(len(matrix[row])):\n",
        "            if index < len(text):\n",
        "                matrix[row][column] = text[index]\n",
        "                index += 1\n",
        "            else:\n",
        "                matrix[row][column] = ''\n",
        "\n",
        "encrypted_text = \"TTHAOEOESRCRPX\"\n",
        "decryption_key = [2, 0, 1, 3]\n",
        "decrypted_text = decrypt_transposition_cipher(encrypted_text, decryption_key)\n",
        "print(\"Teks terenkripsi:\", encrypted_text)\n",
        "print(\"Teks terdekripsi:\", decrypted_text)\n"
      ],
      "metadata": {
        "colab": {
          "base_uri": "https://localhost:8080/",
          "height": 0
        },
        "id": "MNwEkmLJX3a_",
        "outputId": "1e8d0625-393f-4687-d770-90b6b6e84cfc"
      },
      "execution_count": 6,
      "outputs": [
        {
          "output_type": "stream",
          "name": "stdout",
          "text": [
            "Teks terenkripsi: TTHAOEOESRCRPX\n",
            "Teks terdekripsi: TERXHOCTOSPAER\n"
          ]
        }
      ]
    },
    {
      "cell_type": "markdown",
      "source": [
        "# Encrpyt & Decrpyt substitutions cipher"
      ],
      "metadata": {
        "id": "n1naH0NZY595"
      }
    },
    {
      "cell_type": "code",
      "source": [
        "def encrypt_caesar_cipher(plaintext, shift):\n",
        "    ciphertext = ''\n",
        "    for char in plaintext:\n",
        "        if char.isalpha():\n",
        "            shifted = ord(char) + shift\n",
        "            if char.islower():\n",
        "                if shifted > ord('z'):\n",
        "                    shifted -= 26\n",
        "            elif char.isupper():\n",
        "                if shifted > ord('Z'):\n",
        "                    shifted -= 26\n",
        "            ciphertext += chr(shifted)\n",
        "        else:\n",
        "            ciphertext += char\n",
        "    return ciphertext\n",
        "\n",
        "def decrypt_caesar_cipher(ciphertext, shift):\n",
        "    decrypted_text = ''\n",
        "    for char in ciphertext:\n",
        "        if char.isalpha():\n",
        "            shifted = ord(char) - shift\n",
        "            if char.islower():\n",
        "                if shifted < ord('a'):\n",
        "                    shifted += 26\n",
        "            elif char.isupper():\n",
        "                if shifted < ord('A'):\n",
        "                    shifted += 26\n",
        "            decrypted_text += chr(shifted)\n",
        "        else:\n",
        "            decrypted_text += char\n",
        "    return decrypted_text\n",
        "\n",
        "plaintext = \"Hello, World!\"\n",
        "shift = 3\n",
        "encrypted_text = encrypt_caesar_cipher(plaintext, shift)\n",
        "print(\"Teks terenkripsi:\", encrypted_text)\n",
        "\n",
        "decrypted_text = decrypt_caesar_cipher(encrypted_text, shift)\n",
        "print(\"Teks terdekripsi:\", decrypted_text)"
      ],
      "metadata": {
        "colab": {
          "base_uri": "https://localhost:8080/",
          "height": 0
        },
        "id": "5_1AQvOUZFsC",
        "outputId": "acc7d54a-e2ce-4494-e60e-40266798ff43"
      },
      "execution_count": 7,
      "outputs": [
        {
          "output_type": "stream",
          "name": "stdout",
          "text": [
            "Teks terenkripsi: Khoor, Zruog!\n",
            "Teks terdekripsi: Hello, World!\n"
          ]
        }
      ]
    }
  ]
}